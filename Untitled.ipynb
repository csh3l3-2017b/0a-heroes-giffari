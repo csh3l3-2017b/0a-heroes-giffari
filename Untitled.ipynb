{
 "cells": [
  {
   "cell_type": "code",
   "execution_count": 6,
   "metadata": {
    "collapsed": true
   },
   "outputs": [],
   "source": [
    "import pandas as pd"
   ]
  },
  {
   "cell_type": "code",
   "execution_count": 7,
   "metadata": {
    "collapsed": true
   },
   "outputs": [],
   "source": [
    "Test = pd.read_csv(\"test.csv\")"
   ]
  },
  {
   "cell_type": "code",
   "execution_count": 8,
   "metadata": {
    "collapsed": true
   },
   "outputs": [],
   "source": [
    "Testarray = []"
   ]
  },
  {
   "cell_type": "markdown",
   "metadata": {},
   "source": [
    "Heroes yang memiliki movementSpeed >= 270, akan mendapat peran sebagai MARKSMAN (huruf kapital semua) Heroes dengan mana >= 500, akan mendapat peran sebagai MAGE (huruf kapital semua) Heroes dengan armor >= 25, akan mendapat peran sebagai TANK (huruf kapital semua) Heroes dengan physicalAttack >= 121, akan mendapat peran sebagai ASSASSIN (huruf kapital semua) Heroes dengan hp >= 2580, akan mendapat peran sebagai FIGHTER (huruf kapital semua) Heroes lainnya akan mendapat peran sebagai SUPPORT (huruf kapital semua)"
   ]
  },
  {
   "cell_type": "code",
   "execution_count": 9,
   "metadata": {},
   "outputs": [],
   "source": [
    "for H in range (len(Test)) :\n",
    "    if Test[\"movementSpeed\"][H] >= 270:\n",
    "        Testarray.append(\"MARKSMAN\")\n",
    "    elif Test[\"mana\"][H] >= 500:\n",
    "        Testarray.append(\"MAGE\")\n",
    "    elif Test[\"armor\"][H] >= 25:\n",
    "        Testarray.append(\"TANK\")\n",
    "    elif Test[\"physicalAttack\"][H] >= 121:\n",
    "        Testarray.append(\"ASSASSIN\")\n",
    "    elif Test[\"hp\"][H] >= 2580:\n",
    "        Testarray.append(\"FIGHTER\")\n",
    "    else :\n",
    "        Testarray.append(\"SUPPORT\")"
   ]
  },
  {
   "cell_type": "markdown",
   "metadata": {},
   "source": [
    "Code kondisi untuk menentukan role suatu heroes sesuai dengan ability atau kemampuannya. Heroes yang memiliki movementSpeed >= 270, akan mendapat peran sebagai MARKSMAN (huruf kapital semua) Heroes dengan mana >= 500, akan mendapat peran sebagai MAGE (huruf kapital semua) Heroes dengan armor >= 25, akan mendapat peran sebagai TANK (huruf kapital semua) Heroes dengan physicalAttack >= 121, akan mendapat peran sebagai ASSASSIN (huruf kapital semua) Heroes dengan hp >= 2580, akan mendapat peran sebagai FIGHTER (huruf kapital semua) Heroes lainnya akan mendapat peran sebagai SUPPORT (huruf kapital semua)."
   ]
  },
  {
   "cell_type": "code",
   "execution_count": 12,
   "metadata": {},
   "outputs": [],
   "source": [
    "HeroNama = pd.DataFrame({\"name\" : Test[\"name\"], \"role\" : Testarray})"
   ]
  },
  {
   "cell_type": "code",
   "execution_count": 13,
   "metadata": {
    "collapsed": true
   },
   "outputs": [],
   "source": [
    "HeroNama.to_csv(\"prediction.csv\", index = False)"
   ]
  },
  {
   "cell_type": "code",
   "execution_count": null,
   "metadata": {
    "collapsed": true
   },
   "outputs": [],
   "source": []
  }
 ],
 "metadata": {
  "kernelspec": {
   "display_name": "Python 3",
   "language": "python",
   "name": "python3"
  },
  "language_info": {
   "codemirror_mode": {
    "name": "ipython",
    "version": 3
   },
   "file_extension": ".py",
   "mimetype": "text/x-python",
   "name": "python",
   "nbconvert_exporter": "python",
   "pygments_lexer": "ipython3",
   "version": "3.6.3"
  }
 },
 "nbformat": 4,
 "nbformat_minor": 2
}
